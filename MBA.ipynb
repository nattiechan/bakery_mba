{
 "cells": [
  {
   "cell_type": "markdown",
   "metadata": {},
   "source": [
    "## Market Basket Analysis - Transactions from a Bakery\n",
    "------\n",
    "\n",
    "In this notebook, transactions of a bakery taken from [Kaggle](https://www.kaggle.com/sulmansarwar/transactions-from-a-bakery) will be analyzed to determine consumer behaviour and future marketing strategies."
   ]
  },
  {
   "cell_type": "code",
   "execution_count": 1,
   "metadata": {},
   "outputs": [
    {
     "data": {
      "text/html": [
       "<div>\n",
       "<style scoped>\n",
       "    .dataframe tbody tr th:only-of-type {\n",
       "        vertical-align: middle;\n",
       "    }\n",
       "\n",
       "    .dataframe tbody tr th {\n",
       "        vertical-align: top;\n",
       "    }\n",
       "\n",
       "    .dataframe thead th {\n",
       "        text-align: right;\n",
       "    }\n",
       "</style>\n",
       "<table border=\"1\" class=\"dataframe\">\n",
       "  <thead>\n",
       "    <tr style=\"text-align: right;\">\n",
       "      <th></th>\n",
       "      <th>Date</th>\n",
       "      <th>Time</th>\n",
       "      <th>Transaction</th>\n",
       "      <th>Item</th>\n",
       "    </tr>\n",
       "  </thead>\n",
       "  <tbody>\n",
       "    <tr>\n",
       "      <th>0</th>\n",
       "      <td>2016-10-30</td>\n",
       "      <td>09:58:11</td>\n",
       "      <td>1</td>\n",
       "      <td>Bread</td>\n",
       "    </tr>\n",
       "    <tr>\n",
       "      <th>1</th>\n",
       "      <td>2016-10-30</td>\n",
       "      <td>10:05:34</td>\n",
       "      <td>2</td>\n",
       "      <td>Scandinavian</td>\n",
       "    </tr>\n",
       "    <tr>\n",
       "      <th>2</th>\n",
       "      <td>2016-10-30</td>\n",
       "      <td>10:05:34</td>\n",
       "      <td>2</td>\n",
       "      <td>Scandinavian</td>\n",
       "    </tr>\n",
       "    <tr>\n",
       "      <th>3</th>\n",
       "      <td>2016-10-30</td>\n",
       "      <td>10:07:57</td>\n",
       "      <td>3</td>\n",
       "      <td>Hot chocolate</td>\n",
       "    </tr>\n",
       "    <tr>\n",
       "      <th>4</th>\n",
       "      <td>2016-10-30</td>\n",
       "      <td>10:07:57</td>\n",
       "      <td>3</td>\n",
       "      <td>Jam</td>\n",
       "    </tr>\n",
       "  </tbody>\n",
       "</table>\n",
       "</div>"
      ],
      "text/plain": [
       "         Date      Time  Transaction           Item\n",
       "0  2016-10-30  09:58:11            1          Bread\n",
       "1  2016-10-30  10:05:34            2   Scandinavian\n",
       "2  2016-10-30  10:05:34            2   Scandinavian\n",
       "3  2016-10-30  10:07:57            3  Hot chocolate\n",
       "4  2016-10-30  10:07:57            3            Jam"
      ]
     },
     "execution_count": 1,
     "metadata": {},
     "output_type": "execute_result"
    }
   ],
   "source": [
    "# Import packages\n",
    "import pandas as pd\n",
    "import numpy as np\n",
    "from mlxtend.preprocessing import TransactionEncoder\n",
    "from mlxtend.frequent_patterns import apriori, association_rules\n",
    "\n",
    "# Import and load .csv file\n",
    "df = pd.read_csv(\"bakery.csv\")\n",
    "df.head()"
   ]
  },
  {
   "cell_type": "markdown",
   "metadata": {},
   "source": [
    "The output above shows the first 5 rows of the dataset, and below is a description of the dataset from the Kaggle page:\n",
    "\n",
    "*The dataset consists of 21293 observations from a bakery. The data file contains four variables, Date, Time, Transaction ID and Item. Transaction ID ranges from 1 through 9684. However, there are some skipped numbers in Transaction IDs. Also, there are duplicated entries, as shown in observation # 2 and #3. Besides, the Item contains \"Adjustment\", \"NONE\", and \"Afternoon with the baker\". While the entries of \"Adjustment\" and \"NONE\" are straight forward, \"Afternoon with the baker\" may be a real purchase.*\n",
    "\n",
    "The description above implies that some data cleaning will be needed before performing the analysis. First, let's verify if the dataset contains any duplicate entries or skipped numbers in transaction ID."
   ]
  },
  {
   "cell_type": "code",
   "execution_count": 5,
   "metadata": {
    "scrolled": true
   },
   "outputs": [
    {
     "name": "stdout",
     "output_type": "stream",
     "text": [
      "Are there transactions ID missing? Yes\n",
      "Are there any duplicates? True\n"
     ]
    }
   ],
   "source": [
    "# Checking for missing numbers in the transaction ID\n",
    "minimum = min(df.Transaction)\n",
    "maximum = max(df.Transaction)\n",
    "\n",
    "for i in range(minimum, maximum + 1):\n",
    "    if any(df.Transaction == i):\n",
    "        continue\n",
    "    elif i == maximum & any(df.Transaction == i):\n",
    "        output = \"No\"\n",
    "        break\n",
    "    else:\n",
    "        output = \"Yes\"\n",
    "        break\n",
    "\n",
    "print(\"Are there transactions ID missing?\", output)\n",
    "print(\"Are there any duplicates?\", any(df.duplicated()))"
   ]
  },
  {
   "cell_type": "markdown",
   "metadata": {},
   "source": [
    "From the output above, it seems like there are some skipped numbers in transaction ID. We will leave transaction ID alone for now, as it acts as unique identifier for each transaction which will be cruicial for establishing rules later on.\n",
    "\n",
    "On the other hand, the following rows will be dropped from the dataset as part of the data cleaning process:\n",
    "- Duplicated columns using `pd.drop_duplicates`\n",
    "- Columns with \"Adjustment\" or \"NONE\" using `pd.drop` as items as they add no value to the analysis"
   ]
  },
  {
   "cell_type": "code",
   "execution_count": 6,
   "metadata": {},
   "outputs": [
    {
     "name": "stdout",
     "output_type": "stream",
     "text": [
      "DataFrame shape before dropping rows: (21293, 4)\n",
      "DataFrame shape after dropping rows: (18886, 4)\n"
     ]
    }
   ],
   "source": [
    "# Shape before data cleaning\n",
    "print(\"DataFrame shape before dropping rows:\", df.shape)\n",
    "\n",
    "# Dropping rows that have \"Adjustment\" or \"NONE\" as transaction\n",
    "for item in [\"Adjustment\",\"NONE\"]:\n",
    "    indexes = df[df.Item == item].index\n",
    "    df.drop(index = indexes, inplace = True)\n",
    "\n",
    "# Dropping duplicates and reset index\n",
    "df.drop_duplicates(inplace = True)\n",
    "df = df.reset_index()\n",
    "df.drop(columns = \"index\",inplace=True)\n",
    "\n",
    "# Shape after data cleaning\n",
    "print(\"DataFrame shape after dropping rows:\", df.shape)"
   ]
  },
  {
   "cell_type": "markdown",
   "metadata": {},
   "source": [
    "The number of rows is reduced from 21,293 to 18,886 after data cleaning. Next, the items of each transaction will be aggregated into a list of lists, which is the format needed to utilize [`TransactionEncoder`](http://rasbt.github.io/mlxtend/user_guide/preprocessing/TransactionEncoder/) in `mlxtend`, an encoder class for transaction data."
   ]
  },
  {
   "cell_type": "code",
   "execution_count": 10,
   "metadata": {},
   "outputs": [
    {
     "name": "stdout",
     "output_type": "stream",
     "text": [
      "Transactions in a list of lists:\n"
     ]
    },
    {
     "data": {
      "text/plain": [
       "[['Bread'],\n",
       " ['Scandinavian'],\n",
       " ['Hot chocolate', 'Jam', 'Cookies'],\n",
       " ['Muffin'],\n",
       " ['Coffee', 'Pastry', 'Bread'],\n",
       " ['Medialuna', 'Pastry', 'Muffin'],\n",
       " ['Medialuna', 'Pastry', 'Coffee', 'Tea'],\n",
       " ['Pastry', 'Bread'],\n",
       " ['Bread', 'Muffin'],\n",
       " ['Scandinavian', 'Medialuna']]"
      ]
     },
     "metadata": {},
     "output_type": "display_data"
    },
    {
     "name": "stdout",
     "output_type": "stream",
     "text": [
      "Results after TransactionEncoder:\n"
     ]
    },
    {
     "data": {
      "text/html": [
       "<div>\n",
       "<style scoped>\n",
       "    .dataframe tbody tr th:only-of-type {\n",
       "        vertical-align: middle;\n",
       "    }\n",
       "\n",
       "    .dataframe tbody tr th {\n",
       "        vertical-align: top;\n",
       "    }\n",
       "\n",
       "    .dataframe thead th {\n",
       "        text-align: right;\n",
       "    }\n",
       "</style>\n",
       "<table border=\"1\" class=\"dataframe\">\n",
       "  <thead>\n",
       "    <tr style=\"text-align: right;\">\n",
       "      <th></th>\n",
       "      <th>Afternoon with the baker</th>\n",
       "      <th>Alfajores</th>\n",
       "      <th>Argentina Night</th>\n",
       "      <th>Art Tray</th>\n",
       "      <th>Bacon</th>\n",
       "      <th>Baguette</th>\n",
       "      <th>Bakewell</th>\n",
       "      <th>Bare Popcorn</th>\n",
       "      <th>Basket</th>\n",
       "      <th>Bowl Nic Pitt</th>\n",
       "      <th>...</th>\n",
       "      <th>The BART</th>\n",
       "      <th>The Nomad</th>\n",
       "      <th>Tiffin</th>\n",
       "      <th>Toast</th>\n",
       "      <th>Truffles</th>\n",
       "      <th>Tshirt</th>\n",
       "      <th>Valentine's card</th>\n",
       "      <th>Vegan Feast</th>\n",
       "      <th>Vegan mincepie</th>\n",
       "      <th>Victorian Sponge</th>\n",
       "    </tr>\n",
       "  </thead>\n",
       "  <tbody>\n",
       "    <tr>\n",
       "      <th>0</th>\n",
       "      <td>False</td>\n",
       "      <td>False</td>\n",
       "      <td>False</td>\n",
       "      <td>False</td>\n",
       "      <td>False</td>\n",
       "      <td>False</td>\n",
       "      <td>False</td>\n",
       "      <td>False</td>\n",
       "      <td>False</td>\n",
       "      <td>False</td>\n",
       "      <td>...</td>\n",
       "      <td>False</td>\n",
       "      <td>False</td>\n",
       "      <td>False</td>\n",
       "      <td>False</td>\n",
       "      <td>False</td>\n",
       "      <td>False</td>\n",
       "      <td>False</td>\n",
       "      <td>False</td>\n",
       "      <td>False</td>\n",
       "      <td>False</td>\n",
       "    </tr>\n",
       "    <tr>\n",
       "      <th>1</th>\n",
       "      <td>False</td>\n",
       "      <td>False</td>\n",
       "      <td>False</td>\n",
       "      <td>False</td>\n",
       "      <td>False</td>\n",
       "      <td>False</td>\n",
       "      <td>False</td>\n",
       "      <td>False</td>\n",
       "      <td>False</td>\n",
       "      <td>False</td>\n",
       "      <td>...</td>\n",
       "      <td>False</td>\n",
       "      <td>False</td>\n",
       "      <td>False</td>\n",
       "      <td>False</td>\n",
       "      <td>False</td>\n",
       "      <td>False</td>\n",
       "      <td>False</td>\n",
       "      <td>False</td>\n",
       "      <td>False</td>\n",
       "      <td>False</td>\n",
       "    </tr>\n",
       "    <tr>\n",
       "      <th>2</th>\n",
       "      <td>False</td>\n",
       "      <td>False</td>\n",
       "      <td>False</td>\n",
       "      <td>False</td>\n",
       "      <td>False</td>\n",
       "      <td>False</td>\n",
       "      <td>False</td>\n",
       "      <td>False</td>\n",
       "      <td>False</td>\n",
       "      <td>False</td>\n",
       "      <td>...</td>\n",
       "      <td>False</td>\n",
       "      <td>False</td>\n",
       "      <td>False</td>\n",
       "      <td>False</td>\n",
       "      <td>False</td>\n",
       "      <td>False</td>\n",
       "      <td>False</td>\n",
       "      <td>False</td>\n",
       "      <td>False</td>\n",
       "      <td>False</td>\n",
       "    </tr>\n",
       "    <tr>\n",
       "      <th>3</th>\n",
       "      <td>False</td>\n",
       "      <td>False</td>\n",
       "      <td>False</td>\n",
       "      <td>False</td>\n",
       "      <td>False</td>\n",
       "      <td>False</td>\n",
       "      <td>False</td>\n",
       "      <td>False</td>\n",
       "      <td>False</td>\n",
       "      <td>False</td>\n",
       "      <td>...</td>\n",
       "      <td>False</td>\n",
       "      <td>False</td>\n",
       "      <td>False</td>\n",
       "      <td>False</td>\n",
       "      <td>False</td>\n",
       "      <td>False</td>\n",
       "      <td>False</td>\n",
       "      <td>False</td>\n",
       "      <td>False</td>\n",
       "      <td>False</td>\n",
       "    </tr>\n",
       "    <tr>\n",
       "      <th>4</th>\n",
       "      <td>False</td>\n",
       "      <td>False</td>\n",
       "      <td>False</td>\n",
       "      <td>False</td>\n",
       "      <td>False</td>\n",
       "      <td>False</td>\n",
       "      <td>False</td>\n",
       "      <td>False</td>\n",
       "      <td>False</td>\n",
       "      <td>False</td>\n",
       "      <td>...</td>\n",
       "      <td>False</td>\n",
       "      <td>False</td>\n",
       "      <td>False</td>\n",
       "      <td>False</td>\n",
       "      <td>False</td>\n",
       "      <td>False</td>\n",
       "      <td>False</td>\n",
       "      <td>False</td>\n",
       "      <td>False</td>\n",
       "      <td>False</td>\n",
       "    </tr>\n",
       "  </tbody>\n",
       "</table>\n",
       "<p>5 rows × 93 columns</p>\n",
       "</div>"
      ],
      "text/plain": [
       "   Afternoon with the baker  Alfajores  Argentina Night  Art Tray  Bacon  \\\n",
       "0                     False      False            False     False  False   \n",
       "1                     False      False            False     False  False   \n",
       "2                     False      False            False     False  False   \n",
       "3                     False      False            False     False  False   \n",
       "4                     False      False            False     False  False   \n",
       "\n",
       "   Baguette  Bakewell  Bare Popcorn  Basket  Bowl Nic Pitt        ...         \\\n",
       "0     False     False         False   False          False        ...          \n",
       "1     False     False         False   False          False        ...          \n",
       "2     False     False         False   False          False        ...          \n",
       "3     False     False         False   False          False        ...          \n",
       "4     False     False         False   False          False        ...          \n",
       "\n",
       "   The BART  The Nomad  Tiffin  Toast  Truffles  Tshirt  Valentine's card  \\\n",
       "0     False      False   False  False     False   False             False   \n",
       "1     False      False   False  False     False   False             False   \n",
       "2     False      False   False  False     False   False             False   \n",
       "3     False      False   False  False     False   False             False   \n",
       "4     False      False   False  False     False   False             False   \n",
       "\n",
       "   Vegan Feast  Vegan mincepie  Victorian Sponge  \n",
       "0        False           False             False  \n",
       "1        False           False             False  \n",
       "2        False           False             False  \n",
       "3        False           False             False  \n",
       "4        False           False             False  \n",
       "\n",
       "[5 rows x 93 columns]"
      ]
     },
     "execution_count": 10,
     "metadata": {},
     "output_type": "execute_result"
    }
   ],
   "source": [
    "# Putting items into lists, using transaction number as the unique identifier\n",
    "transaction_list = []\n",
    "\n",
    "number = 0\n",
    "\n",
    "for num in df.Transaction.values:\n",
    "    if num != number:\n",
    "        transaction = list(df.Item[df.Transaction == num].values)\n",
    "        transaction_list.append(transaction)\n",
    "        number = num\n",
    "\n",
    "# display first 10 transactions\n",
    "print(\"Transactions in a list of lists:\")\n",
    "display(transaction_list[:10])\n",
    "\n",
    "# Encode transactions using TransactionEncoder\n",
    "encoder = TransactionEncoder()\n",
    "bakery = encoder.fit(transaction_list).transform(transaction_list)\n",
    "bakery_df = pd.DataFrame(bakery, columns = encoder.columns_)\n",
    "print(\"Output from TransactionEncoder:\")\n",
    "bakery_df.head()"
   ]
  },
  {
   "cell_type": "code",
   "execution_count": 39,
   "metadata": {
    "scrolled": true
   },
   "outputs": [
    {
     "data": {
      "text/plain": [
       "Coffee           4528\n",
       "Bread            3097\n",
       "Tea              1350\n",
       "Cake              983\n",
       "Pastry            815\n",
       "Sandwich          680\n",
       "Medialuna         585\n",
       "Hot chocolate     552\n",
       "Cookies           515\n",
       "Brownie           379\n",
       "dtype: int64"
      ]
     },
     "metadata": {},
     "output_type": "display_data"
    },
    {
     "data": {
      "image/png": "[encoded data removed]",
      "text/plain": [
       "<Figure size 864x576 with 1 Axes>"
      ]
     },
     "metadata": {
      "needs_background": "light"
     },
     "output_type": "display_data"
    }
   ],
   "source": [
    "length = 10\n",
    "\n",
    "# print(f\"Top {length} items sold at the Bakery:\")\n",
    "top_n = bakery_df.sum().sort_values(ascending = False)[:length]\n",
    "\n",
    "top_n_df = bakery_df.loc[:,top_n.index]\n",
    "display(top_n)\n",
    "\n",
    "top_n_support = apriori(top_n_df, min_support = 0.01, use_colnames = True, max_len = 1)\n",
    "top_n_support.sort_values(by = \"support\", ascending = False)\n",
    "top_n_support\n",
    "\n",
    "import seaborn as sns\n",
    "from matplotlib import pyplot as plt\n",
    "\n",
    "plt.figure(figsize = (12,8))\n",
    "sns.barplot(x = top_n.index, y = top_n.values, color = \"steelblue\")\n",
    "plt.show();"
   ]
  },
  {
   "cell_type": "code",
   "execution_count": null,
   "metadata": {
    "scrolled": true
   },
   "outputs": [],
   "source": [
    "support_table = apriori(bakery_df, min_support = 0.01, use_colnames = True, max_len = 5)\n",
    "support_table_display = support_table.sort_values(by = \"support\", ascending = False).reset_index()\n",
    "support_table_display.drop(columns = \"index\", inplace = True)\n",
    "support_table_display"
   ]
  },
  {
   "cell_type": "code",
   "execution_count": null,
   "metadata": {
    "scrolled": true
   },
   "outputs": [],
   "source": [
    "rules_table = association_rules(support_table, metric = \"lift\", min_threshold = 1.0)\n",
    "rules_table"
   ]
  },
  {
   "cell_type": "code",
   "execution_count": null,
   "metadata": {},
   "outputs": [],
   "source": [
    "max(rules_table[\"support\"])"
   ]
  },
  {
   "cell_type": "code",
   "execution_count": null,
   "metadata": {},
   "outputs": [],
   "source": [
    "table = rules_table.sort_values(by = \"confidence\", ascending = False)\n",
    "table[(table.support > 0.03) & (table.support <= 0.04)]"
   ]
  },
  {
   "cell_type": "code",
   "execution_count": null,
   "metadata": {},
   "outputs": [],
   "source": [
    "no_coffee = table[(table.antecedents != {'Coffee'}) & (table.consequents != {'Coffee'})]\n",
    "no_coffee"
   ]
  },
  {
   "cell_type": "code",
   "execution_count": null,
   "metadata": {},
   "outputs": [],
   "source": [
    "no_coffee[(no_coffee.confidence > 0.15) & (no_coffee.support > 0.01)]"
   ]
  },
  {
   "cell_type": "code",
   "execution_count": null,
   "metadata": {},
   "outputs": [],
   "source": []
  }
 ],
 "metadata": {
  "kernelspec": {
   "display_name": "Python 3",
   "language": "python",
   "name": "python3"
  },
  "language_info": {
   "codemirror_mode": {
    "name": "ipython",
    "version": 3
   },
   "file_extension": ".py",
   "mimetype": "text/x-python",
   "name": "python",
   "nbconvert_exporter": "python",
   "pygments_lexer": "ipython3",
   "version": "3.7.1"
  }
 },
 "nbformat": 4,
 "nbformat_minor": 2
}
